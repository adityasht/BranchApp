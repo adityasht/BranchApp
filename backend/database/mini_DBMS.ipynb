{
 "cells": [
  {
   "cell_type": "code",
   "execution_count": 1,
   "metadata": {},
   "outputs": [],
   "source": [
    "import os\n",
    "import pymysql\n",
    "\n",
    "# Read database password from pass.txt file\n",
    "def get_db_password():\n",
    "    with open(os.path.join(os.path.dirname(__vsc_ipynb_file__), '..', 'password.txt'), 'r') as f:\n",
    "        return f.read().strip()\n",
    "\n",
    "DB_PASSWORD = get_db_password()\n",
    "\n",
    "timeout = 10\n",
    "connection = pymysql.connect(\n",
    "  charset=\"utf8mb4\",\n",
    "  connect_timeout=timeout,\n",
    "  cursorclass=pymysql.cursors.DictCursor,\n",
    "  db=\"defaultdb\",\n",
    "  host=\"mysql-223d04d7-branch-hackathon.h.aivencloud.com\",\n",
    "  password=DB_PASSWORD,\n",
    "  read_timeout=timeout,\n",
    "  port=14022,\n",
    "  user=\"avnadmin\",\n",
    "  write_timeout=timeout,\n",
    ")"
   ]
  },
  {
   "cell_type": "code",
   "execution_count": 9,
   "metadata": {},
   "outputs": [
    {
     "name": "stdout",
     "output_type": "stream",
     "text": [
      "[{'MessageID': 1, 'SenderID': 1, 'ReceiverID': 2, 'Message': 'hey', 'Timestamp': datetime.datetime(2024, 9, 28, 20, 58)}, {'MessageID': 5, 'SenderID': 1, 'ReceiverID': 2, 'Message': 'hiya', 'Timestamp': datetime.datetime(2024, 9, 28, 21, 18, 18)}, {'MessageID': 6, 'SenderID': 1, 'ReceiverID': 2, 'Message': 'hey pal', 'Timestamp': datetime.datetime(2024, 9, 28, 21, 19, 11)}, {'MessageID': 7, 'SenderID': 1, 'ReceiverID': 2, 'Message': 'hey pal!', 'Timestamp': datetime.datetime(2024, 9, 28, 21, 20, 13)}, {'MessageID': 8, 'SenderID': 1, 'ReceiverID': 2, 'Message': 'this is my last test', 'Timestamp': datetime.datetime(2024, 9, 28, 21, 20, 23)}]\n"
     ]
    }
   ],
   "source": [
    "try:\n",
    "    cursor = connection.cursor()\n",
    "\n",
    "    # Use the UserManagement schema\n",
    "    cursor.execute(\"USE `UserManagement`;\")\n",
    "    cursor.execute(\"SELECT * FROM `Messages`\")\n",
    "    print(cursor.fetchall())\n",
    "\n",
    "finally:\n",
    "    pass"
   ]
  }
 ],
 "metadata": {
  "kernelspec": {
   "display_name": "base",
   "language": "python",
   "name": "python3"
  },
  "language_info": {
   "codemirror_mode": {
    "name": "ipython",
    "version": 3
   },
   "file_extension": ".py",
   "mimetype": "text/x-python",
   "name": "python",
   "nbconvert_exporter": "python",
   "pygments_lexer": "ipython3",
   "version": "3.10.4"
  }
 },
 "nbformat": 4,
 "nbformat_minor": 2
}
