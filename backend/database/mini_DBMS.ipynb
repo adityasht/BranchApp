{
 "cells": [
  {
   "cell_type": "code",
   "execution_count": 2,
   "metadata": {},
   "outputs": [],
   "source": [
    "import os\n",
    "import pymysql\n",
    "\n",
    "# Read database password from pass.txt file\n",
    "def get_db_password():\n",
    "    with open(os.path.join(os.path.dirname(__vsc_ipynb_file__), '..', 'password.txt'), 'r') as f:\n",
    "        return f.read().strip()\n",
    "\n",
    "DB_PASSWORD = get_db_password()\n",
    "\n",
    "timeout = 10\n",
    "connection = pymysql.connect(\n",
    "  charset=\"utf8mb4\",\n",
    "  connect_timeout=timeout,\n",
    "  cursorclass=pymysql.cursors.DictCursor,\n",
    "  db=\"defaultdb\",\n",
    "  host=\"mysql-223d04d7-branch-hackathon.h.aivencloud.com\",\n",
    "  password=DB_PASSWORD,\n",
    "  read_timeout=timeout,\n",
    "  port=14022,\n",
    "  user=\"avnadmin\",\n",
    "  write_timeout=timeout,\n",
    ")"
   ]
  },
  {
   "cell_type": "code",
   "execution_count": 3,
   "metadata": {},
   "outputs": [
    {
     "name": "stdout",
     "output_type": "stream",
     "text": [
      "[{'UserID': 1, 'Username': 'jane_doe', 'Image': None, 'InterestList': '[\"reading\", \"traveling\", \"coding\"]', 'PasswordHash': 'hashed_password_123', 'CreatedAt': datetime.datetime(2024, 9, 28, 13, 47, 35), 'Location': None, 'mutuals': 'null', 'Extended Interests': None}, {'UserID': 2, 'Username': 'john_doe', 'Image': None, 'InterestList': '[\"sports\", \"coding\"]', 'PasswordHash': 'hashed_password_here', 'CreatedAt': datetime.datetime(2024, 9, 28, 13, 49, 27), 'Location': None, 'mutuals': 'null', 'Extended Interests': None}, {'UserID': 10, 'Username': 'rebelxhawk', 'Image': None, 'InterestList': '\"[]\"', 'PasswordHash': 'bryson28', 'CreatedAt': datetime.datetime(2024, 9, 28, 18, 27, 34), 'Location': '', 'mutuals': '[\"adityasht\", \"elliotwillner\", \"thomasxie2\"]', 'Extended Interests': None}]\n"
     ]
    }
   ],
   "source": [
    "try:\n",
    "    cursor = connection.cursor()\n",
    "\n",
    "    # Use the UserManagement schema\n",
    "    cursor.execute(\"USE `UserManagement`;\")\n",
    "\n",
    "    cursor.execute(\"SELECT * FROM `Users`;\")\n",
    "    print(cursor.fetchall())\n",
    "\n",
    "finally:\n",
    "    pass"
   ]
  }
 ],
 "metadata": {
  "kernelspec": {
   "display_name": "base",
   "language": "python",
   "name": "python3"
  },
  "language_info": {
   "codemirror_mode": {
    "name": "ipython",
    "version": 3
   },
   "file_extension": ".py",
   "mimetype": "text/x-python",
   "name": "python",
   "nbconvert_exporter": "python",
   "pygments_lexer": "ipython3",
   "version": "3.10.4"
  }
 },
 "nbformat": 4,
 "nbformat_minor": 2
}
