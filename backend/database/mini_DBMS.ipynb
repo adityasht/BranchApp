{
 "cells": [
  {
   "cell_type": "code",
   "execution_count": 28,
   "metadata": {},
   "outputs": [],
   "source": [
    "import os\n",
    "import pymysql\n",
    "\n",
    "# Read database password from pass.txt file\n",
    "def get_db_password():\n",
    "    with open(os.path.join(os.path.dirname(__vsc_ipynb_file__), '..', 'password.txt'), 'r') as f:\n",
    "        return f.read().strip()\n",
    "\n",
    "DB_PASSWORD = get_db_password()\n",
    "\n",
    "timeout = 10\n",
    "    connection = pymysql.connect(\n",
    "    charset=\"utf8mb4\",\n",
    "    connect_timeout=timeout,\n",
    "    cursorclass=pymysql.cursors.DictCursor,\n",
    "    db=\"defaultdb\",\n",
    "    host=\"gatech-hackathon-2024-branch-hackgt.h.aivencloud.com\",\n",
    "    password=DB_PASSWORD,\n",
    "    read_timeout=timeout,\n",
    "    port=10703,\n",
    "    user=\"avnadmin\",\n",
    "    write_timeout=timeout,\n",
    "    )"
   ]
  },
  {
   "cell_type": "code",
   "execution_count": 57,
   "metadata": {},
   "outputs": [
    {
     "name": "stdout",
     "output_type": "stream",
     "text": [
      "()\n"
     ]
    }
   ],
   "source": [
    "try:\n",
    "    cursor = connection.cursor()\n",
    "\n",
    "    # Use the UserManagement schema\n",
    "    cursor.execute(\"USE `UserManagement`;\")\n",
    "\n",
    "    cursor.execute(\"\"\"\n",
    "        SELECT * FROM `Users`;\n",
    "    \"\"\")\n",
    "    print(cursor.fetchall())\n",
    "\n",
    "finally:\n",
    "    pass"
   ]
  }
 ],
 "metadata": {
  "kernelspec": {
   "display_name": "base",
   "language": "python",
   "name": "python3"
  },
  "language_info": {
   "codemirror_mode": {
    "name": "ipython",
    "version": 3
   },
   "file_extension": ".py",
   "mimetype": "text/x-python",
   "name": "python",
   "nbconvert_exporter": "python",
   "pygments_lexer": "ipython3",
   "version": "3.10.4"
  }
 },
 "nbformat": 4,
 "nbformat_minor": 2
}
